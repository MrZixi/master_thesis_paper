{
 "cells": [
  {
   "cell_type": "code",
   "execution_count": 3,
   "id": "62d057d4",
   "metadata": {},
   "outputs": [
    {
     "name": "stdout",
     "output_type": "stream",
     "text": [
      "D3 47.35\n",
      "\n",
      "#D3/bE3 21.06\n",
      "\n",
      "E3 4.02\n",
      "\n",
      "F3 1.55\n",
      "\n",
      "#F3/bG3 4.77\n",
      "\n",
      "G3 2.36\n",
      "\n",
      "#G3/bA3 #G3/bA3\n",
      "\n",
      "A3 5.78\n",
      "\n",
      "#A3/bB3 6.03\n",
      "\n",
      "B3 5.85\n",
      "\n",
      "C4 5.98\n",
      "\n",
      "#C4/bD4 6.42\n",
      "\n",
      "D4 6.8\n",
      "\n",
      "#D4/bE4 7.11\n",
      "\n",
      "E4 6.92\n",
      "\n",
      "F4 F4\n",
      "\n",
      "#F4/bG4 #F4/bG4\n",
      "\n",
      "G4 G4\n",
      "\n",
      "#G4/bA4 #G4/bA4\n",
      "\n",
      "A4 A4\n",
      "\n",
      "#A4/bB4 #A4/bB4\n",
      "\n",
      "B4 B4\n",
      "\n",
      "C5 C5\n",
      "\n",
      "#C5/bD5 #C5/bD5\n",
      "\n",
      "D5 D5\n",
      "\n",
      "#D5/bE5 #D5/bE5\n",
      "\n",
      "E5 E5\n",
      "\n",
      "F5 183.54\n",
      "\n"
     ]
    }
   ],
   "source": [
    "import matplotlib.pyplot as plt\n",
    "\n",
    "notes = ['D3', '#D3/bE3', 'E3', 'F3', '#F3/bG3', 'G3', '#G3/bA3', 'A3', '#A3/bB3', 'B3', 'C4', '#C4/bD4','D4', '#D4/bE4','E4', 'F4', '#F4/bG4', 'G4', \n",
    "         '#G4/bA4', 'A4', '#A4/bB4','B4', 'C5', '#C5/bD5', 'D5', '#D5/bE5', 'E5', 'F5']\n",
    "deltas = [47.35, 21.06, 4.02, 1.55, 4.77, 2.36, 5.12, 5.78, 6.03, 5.85, 5.98, 6.42, 6.80, 7.11, 6.92, 'F4', '#F4/bG4', 'G4', \n",
    "         '#G4/bA4', 'A4', '#A4/bB4','B4', 'C5', '#C5/bD5', 'D5', '#D5/bE5', 'E5', 183.54]\n",
    "\n",
    "for note, delta in zip(notes, deltas):\n",
    "    print(note + ' ' + str(delta) + '\\n')"
   ]
  },
  {
   "cell_type": "code",
   "execution_count": null,
   "id": "2eff6e01",
   "metadata": {},
   "outputs": [],
   "source": []
  }
 ],
 "metadata": {
  "kernelspec": {
   "display_name": "Python 3 (ipykernel)",
   "language": "python",
   "name": "python3"
  },
  "language_info": {
   "codemirror_mode": {
    "name": "ipython",
    "version": 3
   },
   "file_extension": ".py",
   "mimetype": "text/x-python",
   "name": "python",
   "nbconvert_exporter": "python",
   "pygments_lexer": "ipython3",
   "version": "3.8.13"
  }
 },
 "nbformat": 4,
 "nbformat_minor": 5
}
